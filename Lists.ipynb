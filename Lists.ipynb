{
 "cells": [
  {
   "cell_type": "code",
   "execution_count": 25,
   "id": "e875078f",
   "metadata": {},
   "outputs": [],
   "source": [
    "#define a list \n",
    "a = [3,10, -1]\n"
   ]
  },
  {
   "cell_type": "code",
   "execution_count": 26,
   "id": "36064cd1",
   "metadata": {},
   "outputs": [
    {
     "name": "stdout",
     "output_type": "stream",
     "text": [
      "[3, 10, -1]\n"
     ]
    }
   ],
   "source": [
    "print(a)"
   ]
  },
  {
   "cell_type": "code",
   "execution_count": 27,
   "id": "2519df70",
   "metadata": {},
   "outputs": [],
   "source": [
    "a.append(1)"
   ]
  },
  {
   "cell_type": "code",
   "execution_count": 28,
   "id": "f4118132",
   "metadata": {},
   "outputs": [
    {
     "name": "stdout",
     "output_type": "stream",
     "text": [
      "[3, 10, -1, 1]\n"
     ]
    }
   ],
   "source": [
    "print(a)"
   ]
  },
  {
   "cell_type": "code",
   "execution_count": 33,
   "id": "c0075ed3",
   "metadata": {},
   "outputs": [
    {
     "name": "stdout",
     "output_type": "stream",
     "text": [
      "[3, 10, -1, 1, 'hello']\n"
     ]
    }
   ],
   "source": [
    "#list with mixed values\n",
    "a.append(\"hello\")\n",
    "print(a)"
   ]
  },
  {
   "cell_type": "code",
   "execution_count": 34,
   "id": "66497ab5",
   "metadata": {},
   "outputs": [
    {
     "name": "stdout",
     "output_type": "stream",
     "text": [
      "[3, 10, -1, 1, 'hello', [7, 8]]\n"
     ]
    }
   ],
   "source": [
    "#list within a list \n",
    "a.append([7,8])\n",
    "print(a)"
   ]
  },
  {
   "cell_type": "code",
   "execution_count": 35,
   "id": "a70208d6",
   "metadata": {},
   "outputs": [
    {
     "name": "stdout",
     "output_type": "stream",
     "text": [
      "[3, 10, -1, 1, 'hello']\n"
     ]
    }
   ],
   "source": [
    "#delete last items from a list \n",
    "a.pop()\n",
    "print(a)"
   ]
  },
  {
   "cell_type": "code",
   "execution_count": 36,
   "id": "60cf90c3",
   "metadata": {},
   "outputs": [
    {
     "name": "stdout",
     "output_type": "stream",
     "text": [
      "[3, 10, -1, 1]\n"
     ]
    }
   ],
   "source": [
    "a.pop()\n",
    "print(a)"
   ]
  },
  {
   "cell_type": "code",
   "execution_count": 39,
   "id": "00ab1696",
   "metadata": {},
   "outputs": [
    {
     "name": "stdout",
     "output_type": "stream",
     "text": [
      "3\n"
     ]
    }
   ],
   "source": [
    " #Retrieve an item from the list indexing at zero\n",
    "print(a[0])\n"
   ]
  },
  {
   "cell_type": "code",
   "execution_count": 40,
   "id": "bf22e220",
   "metadata": {},
   "outputs": [
    {
     "name": "stdout",
     "output_type": "stream",
     "text": [
      "1\n"
     ]
    }
   ],
   "source": [
    "#Retrieve the 4th item from the list \n",
    "print (a[3])"
   ]
  },
  {
   "cell_type": "code",
   "execution_count": 41,
   "id": "77be19f2",
   "metadata": {},
   "outputs": [],
   "source": [
    "#change the content of a list \n",
    "a[0] = 100"
   ]
  },
  {
   "cell_type": "code",
   "execution_count": 42,
   "id": "4c3a940c",
   "metadata": {},
   "outputs": [
    {
     "name": "stdout",
     "output_type": "stream",
     "text": [
      "[100, 10, -1, 1]\n"
     ]
    }
   ],
   "source": [
    "print(a)"
   ]
  },
  {
   "cell_type": "code",
   "execution_count": 48,
   "id": "721ce298",
   "metadata": {},
   "outputs": [
    {
     "name": "stdout",
     "output_type": "stream",
     "text": [
      "['banana', 'apple', 'microsoft']\n"
     ]
    }
   ],
   "source": [
    "b = [\"banana\", \"apple\", \"microsoft\"]\n",
    "print(b)"
   ]
  },
  {
   "cell_type": "code",
   "execution_count": 43,
   "id": "f6fb2c95",
   "metadata": {},
   "outputs": [
    {
     "name": "stdout",
     "output_type": "stream",
     "text": [
      "banana\n"
     ]
    }
   ],
   "source": [
    "b = [\"banana\", \"apple\", \"microsoft\"]\n",
    "temp = b[0]\n",
    "print(temp)"
   ]
  },
  {
   "cell_type": "code",
   "execution_count": 44,
   "id": "c1a30ab0",
   "metadata": {},
   "outputs": [
    {
     "name": "stdout",
     "output_type": "stream",
     "text": [
      "['microsoft', 'apple', 'microsoft']\n"
     ]
    }
   ],
   "source": [
    "b = [\"banana\", \"apple\", \"microsoft\"]\n",
    "temp = b[0]\n",
    "b[0] = b[2]\n",
    "print(b)"
   ]
  },
  {
   "cell_type": "code",
   "execution_count": 46,
   "id": "034c737e",
   "metadata": {},
   "outputs": [
    {
     "name": "stdout",
     "output_type": "stream",
     "text": [
      "['microsoft', 'apple', 'banana']\n"
     ]
    }
   ],
   "source": [
    "b = [\"banana\", \"apple\", \"microsoft\"]\n",
    "temp = b[0]\n",
    "b[0] = b[2]\n",
    "b[2] = temp\n",
    "print (b)"
   ]
  },
  {
   "cell_type": "code",
   "execution_count": 47,
   "id": "dcf42d13",
   "metadata": {},
   "outputs": [
    {
     "name": "stdout",
     "output_type": "stream",
     "text": [
      "['banana', 'apple', 'microsoft']\n"
     ]
    }
   ],
   "source": [
    "#better solution\n",
    "b[0],b[2] = b[2],b[0]\n",
    "print(b)"
   ]
  }
 ],
 "metadata": {
  "kernelspec": {
   "display_name": "Python 3 (ipykernel)",
   "language": "python",
   "name": "python3"
  },
  "language_info": {
   "codemirror_mode": {
    "name": "ipython",
    "version": 3
   },
   "file_extension": ".py",
   "mimetype": "text/x-python",
   "name": "python",
   "nbconvert_exporter": "python",
   "pygments_lexer": "ipython3",
   "version": "3.9.12"
  }
 },
 "nbformat": 4,
 "nbformat_minor": 5
}
