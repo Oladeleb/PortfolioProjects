{
 "cells": [
  {
   "cell_type": "code",
   "execution_count": 7,
   "id": "acc77c80",
   "metadata": {},
   "outputs": [
    {
     "name": "stdout",
     "output_type": "stream",
     "text": [
      "first string\n"
     ]
    }
   ],
   "source": [
    "v1 =\"first string\"\n",
    "print (v1)"
   ]
  },
  {
   "cell_type": "code",
   "execution_count": 8,
   "id": "e5df8c12",
   "metadata": {},
   "outputs": [
    {
     "name": "stdout",
     "output_type": "stream",
     "text": [
      "second string\n"
     ]
    }
   ],
   "source": [
    "v2 =\"second string\"\n",
    "print (v2)"
   ]
  },
  {
   "cell_type": "code",
   "execution_count": 9,
   "id": "4cf2f663",
   "metadata": {},
   "outputs": [
    {
     "name": "stdout",
     "output_type": "stream",
     "text": [
      "second string\n"
     ]
    }
   ],
   "source": [
    "v1 = v2\n",
    "print(v2)"
   ]
  },
  {
   "cell_type": "code",
   "execution_count": 10,
   "id": "ed93ab84",
   "metadata": {},
   "outputs": [
    {
     "name": "stdout",
     "output_type": "stream",
     "text": [
      "second string\n"
     ]
    }
   ],
   "source": [
    "v2=v1\n",
    "print(v2)"
   ]
  },
  {
   "cell_type": "code",
   "execution_count": 14,
   "id": "af99ee82",
   "metadata": {},
   "outputs": [
    {
     "name": "stdout",
     "output_type": "stream",
     "text": [
      "second string\n",
      "first String\n"
     ]
    }
   ],
   "source": [
    "#better solutuion\n",
    "v1= \"first String\"\n",
    "v2 = \"second string\"\n",
    "\n",
    "temp = v1\n",
    "v1 = v2\n",
    "v2 = temp\n",
    "print(v1)\n",
    "print (v2)\n"
   ]
  },
  {
   "cell_type": "code",
   "execution_count": null,
   "id": "3b9396b7",
   "metadata": {},
   "outputs": [],
   "source": []
  }
 ],
 "metadata": {
  "kernelspec": {
   "display_name": "Python 3 (ipykernel)",
   "language": "python",
   "name": "python3"
  },
  "language_info": {
   "codemirror_mode": {
    "name": "ipython",
    "version": 3
   },
   "file_extension": ".py",
   "mimetype": "text/x-python",
   "name": "python",
   "nbconvert_exporter": "python",
   "pygments_lexer": "ipython3",
   "version": "3.9.12"
  }
 },
 "nbformat": 4,
 "nbformat_minor": 5
}
